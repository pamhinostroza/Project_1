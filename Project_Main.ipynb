{
 "cells": [
  {
   "cell_type": "code",
   "execution_count": null,
   "metadata": {},
   "outputs": [],
   "source": [
    "import pandas as pd\n",
    "import matplotlib.pyplot as plt\n",
    "import numpy as np\n",
    "from scipy.stats import linregress\n",
    "import random"
   ]
  },
  {
   "cell_type": "code",
   "execution_count": null,
   "metadata": {},
   "outputs": [],
   "source": [
    "ed_exp = pd.read_csv(\"Resources/government-expenditure-on-education.csv\")\n",
    "ed_grad = pd.read_csv('Resources/EAG_GRAD_ENTR_RATES_06022021014126375.csv')\n",
    "crm_pers_held = pd.read_csv('Resources/crime_persons_held.csv')\n",
    "crm_enter = pd.read_csv('Resources/crime_entering_prison.csv')"
   ]
  },
  {
   "cell_type": "code",
   "execution_count": null,
   "metadata": {},
   "outputs": [],
   "source": [
    "recent_ed_exp=ed_exp.loc[ed_exp[\"Year\"]>=2012]\n",
    "recent_ed_exp"
   ]
  },
  {
   "cell_type": "code",
   "execution_count": null,
   "metadata": {},
   "outputs": [],
   "source": [
    "recent_ed_exp=recent_ed_exp.drop('Code', axis=1)\n",
    "recent_ed_exp"
   ]
  },
  {
   "cell_type": "code",
   "execution_count": null,
   "metadata": {},
   "outputs": [],
   "source": [
    "ed_exp_mean=recent_ed_exp.groupby(\"Entity\")[\"Government expenditure on education, total (% of GDP)\"].mean()"
   ]
  },
  {
   "cell_type": "code",
   "execution_count": null,
   "metadata": {},
   "outputs": [],
   "source": [
    "ed_exp_mean=ed_exp_mean.reset_index()\n",
    "ed_exp_mean"
   ]
  },
  {
   "cell_type": "code",
   "execution_count": null,
   "metadata": {},
   "outputs": [],
   "source": [
    "ed_exp_mean['Government expenditure on education, total (% of GDP)'].plot(kind='hist',bins=list(range(15)))\n",
    "plt.xlabel('Percentage')\n",
    "plt.ylabel('Frequency')\n",
    "plt.title('Distribution of Government Education Expenditure Per Country')\n",
    "plt.yticks([0, 5, 10, 15, 20, 25, 30, 35])\n",
    "plt.savefig('Output/histogram_government_edu_exp.png')"
   ]
  },
  {
   "cell_type": "code",
   "execution_count": null,
   "metadata": {},
   "outputs": [],
   "source": [
    "top_exp = ed_exp_mean.sort_values(by='Government expenditure on education, total (% of GDP)',ascending=False)\n",
    "top_20=top_exp.head(20)\n",
    "top_20\n",
    "top_20=top_20.set_index('Entity')\n",
    "top_20"
   ]
  },
  {
   "cell_type": "code",
   "execution_count": null,
   "metadata": {},
   "outputs": [],
   "source": [
    "bottom_exp = ed_exp_mean.sort_values(by='Government expenditure on education, total (% of GDP)')\n",
    "bottom_20=bottom_exp.head(20)\n",
    "bottom_20=bottom_20.set_index('Entity')\n",
    "bottom_20"
   ]
  },
  {
   "cell_type": "code",
   "execution_count": null,
   "metadata": {},
   "outputs": [],
   "source": [
    "bottom_20.plot(kind='bar')\n",
    "plt.xlabel('Country')\n",
    "plt.ylabel('% of GDP')\n",
    "plt.title('Government Education Expenditure Bottom 20 Countries 2010s Average')\n",
    "plt.savefig(\"Output/bottom_20_expenditure.png\")"
   ]
  },
  {
   "cell_type": "code",
   "execution_count": null,
   "metadata": {},
   "outputs": [],
   "source": [
    "top_20.plot(kind='bar')\n",
    "plt.xlabel('Country')\n",
    "plt.ylabel('% of GDP')\n",
    "plt.title('Government Education Expenditure Top 20 Countries 2010s Average')\n",
    "plt.savefig(\"Output/top_20_expenditure.png\")"
   ]
  },
  {
   "cell_type": "code",
   "execution_count": null,
   "metadata": {
    "scrolled": true
   },
   "outputs": [],
   "source": [
    "ed_grad=ed_grad.drop(['COUNTRY', 'SEX','AGE', 'COUNTRY_ORIGIN', 'International students exclusion', 'ISC11_LEVEL_CAT', 'INDICATOR', 'Indicator', 'YEAR', 'Flag Codes','Flags'], axis=1)"
   ]
  },
  {
   "cell_type": "code",
   "execution_count": null,
   "metadata": {},
   "outputs": [],
   "source": [
    "ed_grad=ed_grad.loc[ed_grad['Year']>=2012]\n",
    "ed_grad"
   ]
  },
  {
   "cell_type": "code",
   "execution_count": null,
   "metadata": {},
   "outputs": [],
   "source": [
    "clean_ed_grad=ed_grad.dropna()\n",
    "clean_ed_grad"
   ]
  },
  {
   "cell_type": "code",
   "execution_count": null,
   "metadata": {},
   "outputs": [],
   "source": [
    "new_ed_grad=clean_ed_grad.loc[clean_ed_grad['Gender']=='Total']\n",
    "new_ed_grad=new_ed_grad.loc[new_ed_grad['Age']=='Total: All age groups']\n",
    "new_ed_grad"
   ]
  },
  {
   "cell_type": "code",
   "execution_count": null,
   "metadata": {},
   "outputs": [],
   "source": [
    "#group by Upper secondary education (ISCED2011 level 3)\n",
    "new=new_ed_grad.rename(columns={'Education level and programe orientation ':'Education Level'})\n",
    "new\n",
    "#and save as \"high school\"\n",
    "#set index\n",
    "# clean_ed_grad=clean_ed_grad.set_index('Country')\n",
    "# clean_ed_grad\n",
    "#graph"
   ]
  },
  {
   "cell_type": "code",
   "execution_count": null,
   "metadata": {},
   "outputs": [],
   "source": [
    "bach_ed=new.loc[new['Education Level']=='Bachelor’s or equivalent level (ISCED2011 level 6)']\n",
    "bach_ed=bach_ed.groupby('Country')['Value'].mean()\n",
    "bach_ed=bach_ed.reset_index()\n",
    "bach_ed=bach_ed.set_index('Country')\n",
    "bach_ed"
   ]
  },
  {
   "cell_type": "code",
   "execution_count": null,
   "metadata": {},
   "outputs": [],
   "source": [
    "bach_ed.plot(kind='bar')\n",
    "plt.yticks([0, 10, 20, 30, 40, 50])\n",
    "plt.xlabel('Country')\n",
    "plt.ylabel('Bachelors Graduation Rate')\n",
    "plt.title('Bachelors Graduates Percentage (2012-2018)')\n",
    "plt.tight_layout()\n",
    "plt.savefig(\"Output/bachelors_grad.png\")"
   ]
  },
  {
   "cell_type": "code",
   "execution_count": null,
   "metadata": {},
   "outputs": [],
   "source": [
    "#but this one is needed to set the country as index\n",
    "#set index\n",
    "#graph\n",
    "bach_ed=new.loc[new['Education Level']=='Master’s or equivalent level (ISCED2011 level 7)']\n",
    "bach_ed=bach_ed.groupby('Country')['Value'].mean()\n",
    "bach_ed=bach_ed.reset_index()\n",
    "bach_ed=bach_ed.set_index('Country')\n",
    "bach_ed"
   ]
  },
  {
   "cell_type": "code",
   "execution_count": null,
   "metadata": {},
   "outputs": [],
   "source": [
    "bach_ed.plot(kind='bar')\n",
    "plt.yticks([0, 10, 20, 30, 40, 50])\n",
    "plt.xlabel('Country')\n",
    "plt.ylabel('Masters Graduation Rate')\n",
    "plt.title('Masters Graduates Percentage (2012-2018)')\n",
    "plt.tight_layout()\n",
    "plt.savefig(\"Output/masters_grad.png\")"
   ]
  },
  {
   "cell_type": "code",
   "execution_count": null,
   "metadata": {},
   "outputs": [],
   "source": [
    "#group by Bachelor’s or equivalent level (ISCED2011 level 6)\n",
    "#and save as \"bachelors\"\n",
    "#set index\n",
    "#graph\n",
    "bach_ed=new.loc[new['Education Level']=='Doctoral or equivalent level  (ISCED2011 level 8)']\n",
    "bach_ed=bach_ed.groupby('Country')['Value'].mean()\n",
    "bach_ed=bach_ed.reset_index()\n",
    "bach_ed=bach_ed.set_index('Country')\n",
    "bach_ed"
   ]
  },
  {
   "cell_type": "code",
   "execution_count": null,
   "metadata": {},
   "outputs": [],
   "source": [
    "bach_ed.plot(kind='bar')\n",
    "plt.yticks([0, 10, 20, 30, 40, 50])\n",
    "plt.xlabel('Country')\n",
    "plt.ylabel('Doctoral Graduation Rate')\n",
    "plt.title('Doctoral Graduates Percentage (2012-2018)')\n",
    "plt.tight_layout()\n",
    "plt.savefig(\"Output/doctoral_grad.png\")"
   ]
  },
  {
   "cell_type": "code",
   "execution_count": null,
   "metadata": {},
   "outputs": [],
   "source": [
    "#group by Master’s or equivalent level (ISCED2011 level 7)\n",
    "#and save as \"masters\"\n",
    "#set index\n",
    "#graph\n",
    "#high school doesnt show up because we only included total age grou and total sex and it only shows up if various ages are included\n",
    "#would duplicates affect mean? \n",
    "\n",
    "high_school=ed_grad.loc[ed_grad['Education level and programe orientation ']=='Upper secondary general education (ISCED2011 level 3 programme 4)']\n",
    "high_school\n",
    "#WE NEED TO DROP MALE AND FEMALE AND DROP TOTAL FOR AGE\n",
    "# bach_ed=bach_ed.groupby('Country')['Value'].mean()\n",
    "# bach_ed=bach_ed.reset_index()\n",
    "# bach_ed=bach_ed.set_index('Country')\n",
    "# bach_ed"
   ]
  },
  {
   "cell_type": "code",
   "execution_count": null,
   "metadata": {},
   "outputs": [],
   "source": [
    "high_school=high_school.dropna()\n",
    "high_school"
   ]
  },
  {
   "cell_type": "code",
   "execution_count": null,
   "metadata": {},
   "outputs": [],
   "source": [
    "high_school=high_school.groupby('Country')['Value'].mean()\n",
    "high_school=high_school.reset_index()\n",
    "high_school"
   ]
  },
  {
   "cell_type": "code",
   "execution_count": null,
   "metadata": {
    "scrolled": true
   },
   "outputs": [],
   "source": [
    "high_school_ed=high_school.set_index('Country')\n",
    "high_school_ed"
   ]
  },
  {
   "cell_type": "code",
   "execution_count": null,
   "metadata": {},
   "outputs": [],
   "source": [
    "high_school_ed.plot(kind='bar')\n",
    "plt.yticks([0, 10, 20, 30, 40, 50])\n",
    "plt.xlabel('Country')\n",
    "plt.ylabel('High School Graduation Rate')\n",
    "plt.title('High School Graduates Percentage (2012-2018)')\n",
    "plt.tight_layout()\n",
    "plt.savefig(\"Output/high_school_grad.png\")"
   ]
  },
  {
   "cell_type": "code",
   "execution_count": null,
   "metadata": {},
   "outputs": [],
   "source": [
    "#group by Doctoral or equivalent level  (ISCED2011 level 8)\n",
    "#and save as \"doctoral\"\n",
    "#set index\n",
    "#graph\n",
    "\n",
    "# bach_ed=new.loc[new['Education Level']=='Bachelor’s or equivalent level (ISCED2011 level 6)']\n",
    "# bach_ed=bach_ed.groupby('Country')['Value'].mean()\n",
    "# bach_ed=bach_ed.reset_index()\n",
    "# bach_ed=bach_ed.set_index('Country')\n",
    "# bach_ed"
   ]
  },
  {
   "cell_type": "code",
   "execution_count": null,
   "metadata": {},
   "outputs": [],
   "source": [
    "# bach_ed.plot(kind='bar')\n",
    "# plt.yticks([0, 10, 20, 30, 40, 50])\n",
    "# plt.xlabel('Country')\n",
    "# plt.ylabel('Bachelors Graduation Rate')\n",
    "# plt.title('Bachelors Graduates Percentage (2012-2018)')\n",
    "# plt.tight_layout()\n",
    "# plt.savefig(\"Output/bachelors_grad.png\")"
   ]
  },
  {
   "cell_type": "code",
   "execution_count": null,
   "metadata": {},
   "outputs": [],
   "source": [
    "crm_pers_held"
   ]
  },
  {
   "cell_type": "code",
   "execution_count": null,
   "metadata": {},
   "outputs": [],
   "source": [
    "crm_pers_held=crm_pers_held.dropna()\n",
    "crm_pers_held=crm_pers_held.loc[crm_pers_held[\"Year\"]>=2012]\n",
    "crm_pers_held"
   ]
  },
  {
   "cell_type": "code",
   "execution_count": null,
   "metadata": {},
   "outputs": [],
   "source": [
    "crm_pers_held=crm_pers_held.drop(['Region','Subregion','Source'], axis=1)\n",
    "crm_pers_held"
   ]
  },
  {
   "cell_type": "code",
   "execution_count": null,
   "metadata": {},
   "outputs": [],
   "source": [
    "df_count=crm_pers_held.groupby('Country')['count'].mean()\n",
    "df_count=df_count.reset_index()\n",
    "#df_count=df_count.set_index('Country')\n",
    "df_count"
   ]
  },
  {
   "cell_type": "code",
   "execution_count": null,
   "metadata": {},
   "outputs": [],
   "source": [
    "# x_axis=df_count['Country']\n",
    "# y_axis=df_count['count']\n",
    "# plt.scatter(x_axis,y_axis)\n",
    "# plt.plot(x_axis,y_axis)\n",
    "# plt.title('Mouse x401 Treated with Capomulin')\n",
    "# plt.xlabel('Country')\n",
    "# plt.ylabel('count')\n",
    "\n",
    "# plt.show()\n",
    "# plt.scatter(x_axis,y_axis,marker=\"o\",facecolors=\"red\", edgecolors=\"black\",s=x_axis,alpha=0.75)\n",
    "# plt.xlabel('Country')\n",
    "# plt.ylabel('count')\n",
    "#plt.title('Bachelors Graduates Percentage (2012-2018)')\n",
    "#plt.tight_layout()\n",
    "#plt.savefig(\"Output/bachelors_grad.png\")\n",
    "#df_count=df_count.set_index['Country']\n",
    "#plt.scatter(Country, count, color='b')\n",
    "# plt.set_xlabel('Timepoint')\n",
    "# plt.set_ylabel('Tumor Volume')\n",
    "# plt.set_title('Mouse x401 Treated with Capomulin')\n",
    "# plt.show()"
   ]
  },
  {
   "cell_type": "code",
   "execution_count": null,
   "metadata": {},
   "outputs": [],
   "source": [
    "df_count['count'].max()"
   ]
  },
  {
   "cell_type": "code",
   "execution_count": null,
   "metadata": {
    "scrolled": true
   },
   "outputs": [],
   "source": [
    "df_count['count'].plot(kind='hist',bins=list(range(200)))\n",
    "plt.xlabel('Country')\n",
    "plt.ylabel('Frequency')\n",
    "plt.title('Distribution of Government Education Expenditure Per Country')\n",
    "plt.yticks([0, 0.25, 0.5,0.75, 1])\n",
    "#plt.show()\n",
    "#plt.savefig('Output/histogram_government_edu_exp.png')"
   ]
  },
  {
   "cell_type": "code",
   "execution_count": null,
   "metadata": {},
   "outputs": [],
   "source": [
    "df_rate=crm_pers_held.groupby('Country')['rate'].mean()\n",
    "df_rate=df_rate.reset_index()\n",
    "df_rate=df_rate.set_index('Country')\n",
    "df_rate"
   ]
  },
  {
   "cell_type": "code",
   "execution_count": null,
   "metadata": {},
   "outputs": [],
   "source": [
    "df_rate"
   ]
  }
 ],
 "metadata": {
  "kernelspec": {
   "display_name": "Python [conda env:pythondata] *",
   "language": "python",
   "name": "conda-env-pythondata-py"
  },
  "language_info": {
   "codemirror_mode": {
    "name": "ipython",
    "version": 3
   },
   "file_extension": ".py",
   "mimetype": "text/x-python",
   "name": "python",
   "nbconvert_exporter": "python",
   "pygments_lexer": "ipython3",
   "version": "3.6.10"
  }
 },
 "nbformat": 4,
 "nbformat_minor": 4
}
